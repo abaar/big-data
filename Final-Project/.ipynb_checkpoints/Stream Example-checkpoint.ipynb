{
 "cells": [
  {
   "cell_type": "code",
   "execution_count": 1,
   "metadata": {},
   "outputs": [],
   "source": [
    "import os\n",
    "os.environ['PYSPARK_SUBMIT_ARGS'] = '--packages org.apache.spark:spark-streaming-kafka-0-8_2.11:2.3.3 pyspark-shell'\n",
    "from pyspark import SparkContext, SparkConf, SQLContext\n",
    "from pyspark.streaming import StreamingContext\n",
    "from pyspark.streaming.kafka import KafkaUtils\n",
    "from pyspark.sql import SparkSession\n",
    "import server\n",
    "from pyspark.sql.types import StructType, StructField, IntegerType, StringType, DoubleType\n",
    "import threading"
   ]
  },
  {
   "cell_type": "code",
   "execution_count": 2,
   "metadata": {},
   "outputs": [
    {
     "name": "stderr",
     "output_type": "stream",
     "text": [
      "INFO:py4j.java_gateway:Callback Server Starting\n",
      "INFO:py4j.java_gateway:Socket listening on ('127.0.0.1', 62654)\n"
     ]
    }
   ],
   "source": [
    "sc = SparkContext(appName=\"Stream text\")\n",
    "spsc = SparkSession(sc)\n",
    "sqlc = SQLContext(spsc)\n",
    "ssc = StreamingContext(sc,60)"
   ]
  },
  {
   "cell_type": "code",
   "execution_count": 3,
   "metadata": {
    "scrolled": true
   },
   "outputs": [],
   "source": [
    "brokers = \"localhost:9092\"\n",
    "topics = ['bigdata']\n",
    "\n",
    "kafkaS = KafkaUtils.createDirectStream(ssc,topics,{\"metadata.broker.list\":brokers})"
   ]
  },
  {
   "cell_type": "code",
   "execution_count": 4,
   "metadata": {},
   "outputs": [
    {
     "name": "stderr",
     "output_type": "stream",
     "text": [
      "[23/May/2019:21:44:03] ENGINE Bus STARTING\n",
      "INFO:cherrypy.error:[23/May/2019:21:44:03] ENGINE Bus STARTING\n",
      "[23/May/2019:21:44:03] ENGINE Started monitor thread 'Autoreloader'.\n",
      "INFO:cherrypy.error:[23/May/2019:21:44:03] ENGINE Started monitor thread 'Autoreloader'.\n",
      "[23/May/2019:21:44:03] ENGINE Serving on http://0.0.0.0:51629\n",
      "INFO:cherrypy.error:[23/May/2019:21:44:03] ENGINE Serving on http://0.0.0.0:51629\n",
      "[23/May/2019:21:44:03] ENGINE Bus STARTED\n",
      "INFO:cherrypy.error:[23/May/2019:21:44:03] ENGINE Bus STARTED\n"
     ]
    }
   ],
   "source": [
    "endpoint_server = server.FlaskServer(51629,sqlc)\n",
    "endpoint_server.startServer()"
   ]
  },
  {
   "cell_type": "code",
   "execution_count": 5,
   "metadata": {},
   "outputs": [],
   "source": [
    "def saveAsParquet(rdd):\n",
    "    print('a new data has come')\n",
    "    if not rdd.isEmpty():\n",
    "        print(\"converting to dataframe\")\n",
    "        df = rdd.map(lambda line: line[1].split(\",\")).map(lambda tokens: (float(tokens[2]),float(tokens[3]),1 if(tokens[4]=='Positive') else tokens[4] )).map(lambda s: (s[0],s[1], -1 if(s[2]=='Negative') else 0 )).toDF(['Latitude','Longitude','Sentiment'])\n",
    "        print(\"adding new data to endpoint\")\n",
    "        endpoint_server.addData(df)\n",
    "        print(\"data added\")\n",
    "    return rdd"
   ]
  },
  {
   "cell_type": "code",
   "execution_count": 6,
   "metadata": {},
   "outputs": [],
   "source": [
    "kafkaS.foreachRDD(lambda x : saveAsParquet(x))"
   ]
  },
  {
   "cell_type": "code",
   "execution_count": null,
   "metadata": {},
   "outputs": [
    {
     "name": "stderr",
     "output_type": "stream",
     "text": [
      "INFO:py4j.java_gateway:Callback Connection ready to receive messages\n",
      "INFO:py4j.java_gateway:Received command c on object id p1\n",
      "INFO:py4j.java_gateway:Received command c on object id p1\n",
      "INFO:py4j.java_gateway:Received command c on object id p2\n"
     ]
    },
    {
     "name": "stdout",
     "output_type": "stream",
     "text": [
      "a new data has come\n",
      "converting to dataframe\n",
      "adding new data to endpoint\n"
     ]
    },
    {
     "name": "stderr",
     "output_type": "stream",
     "text": [
      "INFO:py4j.java_gateway:Received command c on object id p2\n"
     ]
    },
    {
     "name": "stdout",
     "output_type": "stream",
     "text": [
      "data added\n"
     ]
    },
    {
     "name": "stderr",
     "output_type": "stream",
     "text": [
      "127.0.0.1 - - [23/May/2019:21:45:17 +0700] \"GET /show-cluster/0 HTTP/1.1\" 200 1269117 \"-\" \"Mozilla/5.0 (Windows NT 10.0; Win64; x64) AppleWebKit/537.36 (KHTML, like Gecko) Chrome/74.0.3729.169 Safari/537.36\"\n",
      "INFO:py4j.java_gateway:Received command c on object id p1\n",
      "INFO:py4j.java_gateway:Received command c on object id p1\n",
      "INFO:py4j.java_gateway:Received command c on object id p2\n"
     ]
    },
    {
     "name": "stdout",
     "output_type": "stream",
     "text": [
      "a new data has come\n",
      "converting to dataframe\n"
     ]
    },
    {
     "name": "stderr",
     "output_type": "stream",
     "text": [
      "INFO:py4j.java_gateway:Received command c on object id p2\n"
     ]
    },
    {
     "name": "stdout",
     "output_type": "stream",
     "text": [
      "adding new data to endpoint\n",
      "data added\n"
     ]
    },
    {
     "name": "stderr",
     "output_type": "stream",
     "text": [
      "INFO:py4j.java_gateway:Received command  on object id \n",
      "INFO:py4j.java_gateway:Closing down callback connection\n",
      "INFO:py4j.java_gateway:Callback Connection ready to receive messages\n",
      "INFO:py4j.java_gateway:Received command c on object id p1\n",
      "INFO:py4j.java_gateway:Received command c on object id p1\n",
      "INFO:py4j.java_gateway:Received command c on object id p2\n"
     ]
    },
    {
     "name": "stdout",
     "output_type": "stream",
     "text": [
      "a new data has come\n",
      "converting to dataframe\n"
     ]
    },
    {
     "name": "stderr",
     "output_type": "stream",
     "text": [
      "INFO:py4j.java_gateway:Received command c on object id p2\n"
     ]
    },
    {
     "name": "stdout",
     "output_type": "stream",
     "text": [
      "adding new data to endpoint\n",
      "data added\n"
     ]
    },
    {
     "name": "stderr",
     "output_type": "stream",
     "text": [
      "INFO:py4j.java_gateway:Received command  on object id \n",
      "INFO:py4j.java_gateway:Closing down callback connection\n",
      "INFO:py4j.java_gateway:Callback Connection ready to receive messages\n",
      "INFO:py4j.java_gateway:Received command c on object id p1\n",
      "INFO:py4j.java_gateway:Received command c on object id p1\n",
      "INFO:py4j.java_gateway:Received command c on object id p2\n"
     ]
    },
    {
     "name": "stdout",
     "output_type": "stream",
     "text": [
      "a new data has come\n",
      "converting to dataframe\n"
     ]
    },
    {
     "name": "stderr",
     "output_type": "stream",
     "text": [
      "INFO:py4j.java_gateway:Received command c on object id p2\n"
     ]
    },
    {
     "name": "stdout",
     "output_type": "stream",
     "text": [
      "adding new data to endpoint\n",
      "data added\n"
     ]
    },
    {
     "name": "stderr",
     "output_type": "stream",
     "text": [
      "INFO:py4j.java_gateway:Received command  on object id \n",
      "INFO:py4j.java_gateway:Closing down callback connection\n",
      "INFO:py4j.java_gateway:Callback Connection ready to receive messages\n",
      "INFO:py4j.java_gateway:Received command c on object id p1\n",
      "INFO:py4j.java_gateway:Received command c on object id p1\n",
      "INFO:py4j.java_gateway:Received command c on object id p2\n"
     ]
    },
    {
     "name": "stdout",
     "output_type": "stream",
     "text": [
      "a new data has come\n",
      "converting to dataframe\n"
     ]
    },
    {
     "name": "stderr",
     "output_type": "stream",
     "text": [
      "INFO:py4j.java_gateway:Received command c on object id p2\n"
     ]
    },
    {
     "name": "stdout",
     "output_type": "stream",
     "text": [
      "adding new data to endpoint\n",
      "data added\n"
     ]
    },
    {
     "name": "stderr",
     "output_type": "stream",
     "text": [
      "INFO:py4j.java_gateway:Received command  on object id \n",
      "INFO:py4j.java_gateway:Closing down callback connection\n",
      "INFO:py4j.java_gateway:Callback Connection ready to receive messages\n",
      "INFO:py4j.java_gateway:Received command c on object id p1\n",
      "INFO:py4j.java_gateway:Received command c on object id p1\n",
      "INFO:py4j.java_gateway:Received command c on object id p2\n"
     ]
    },
    {
     "name": "stdout",
     "output_type": "stream",
     "text": [
      "a new data has come\n",
      "converting to dataframe\n"
     ]
    },
    {
     "name": "stderr",
     "output_type": "stream",
     "text": [
      "INFO:py4j.java_gateway:Received command c on object id p2\n"
     ]
    },
    {
     "name": "stdout",
     "output_type": "stream",
     "text": [
      "adding new data to endpoint\n",
      "data added\n"
     ]
    },
    {
     "name": "stderr",
     "output_type": "stream",
     "text": [
      "INFO:py4j.java_gateway:Received command  on object id \n",
      "INFO:py4j.java_gateway:Closing down callback connection\n",
      "INFO:py4j.java_gateway:Callback Connection ready to receive messages\n",
      "INFO:py4j.java_gateway:Received command c on object id p1\n",
      "INFO:py4j.java_gateway:Received command c on object id p1\n",
      "INFO:py4j.java_gateway:Received command c on object id p2\n"
     ]
    },
    {
     "name": "stdout",
     "output_type": "stream",
     "text": [
      "a new data has come\n",
      "converting to dataframe\n"
     ]
    },
    {
     "name": "stderr",
     "output_type": "stream",
     "text": [
      "INFO:py4j.java_gateway:Received command c on object id p2\n"
     ]
    },
    {
     "name": "stdout",
     "output_type": "stream",
     "text": [
      "adding new data to endpoint\n",
      "data added\n"
     ]
    },
    {
     "name": "stderr",
     "output_type": "stream",
     "text": [
      "INFO:py4j.java_gateway:Received command  on object id \n",
      "INFO:py4j.java_gateway:Closing down callback connection\n",
      "INFO:py4j.java_gateway:Callback Connection ready to receive messages\n",
      "INFO:py4j.java_gateway:Received command c on object id p1\n",
      "INFO:py4j.java_gateway:Received command c on object id p1\n",
      "INFO:py4j.java_gateway:Received command c on object id p2\n"
     ]
    },
    {
     "name": "stdout",
     "output_type": "stream",
     "text": [
      "a new data has come\n",
      "converting to dataframe\n"
     ]
    },
    {
     "name": "stderr",
     "output_type": "stream",
     "text": [
      "INFO:py4j.java_gateway:Received command c on object id p2\n"
     ]
    },
    {
     "name": "stdout",
     "output_type": "stream",
     "text": [
      "adding new data to endpoint\n",
      "data added\n"
     ]
    },
    {
     "name": "stderr",
     "output_type": "stream",
     "text": [
      "INFO:py4j.java_gateway:Received command  on object id \n",
      "INFO:py4j.java_gateway:Closing down callback connection\n",
      "INFO:py4j.java_gateway:Callback Connection ready to receive messages\n",
      "INFO:py4j.java_gateway:Received command c on object id p1\n",
      "INFO:py4j.java_gateway:Received command c on object id p1\n",
      "INFO:py4j.java_gateway:Received command c on object id p2\n"
     ]
    },
    {
     "name": "stdout",
     "output_type": "stream",
     "text": [
      "a new data has come\n",
      "converting to dataframe\n"
     ]
    },
    {
     "name": "stderr",
     "output_type": "stream",
     "text": [
      "INFO:py4j.java_gateway:Received command c on object id p2\n"
     ]
    },
    {
     "name": "stdout",
     "output_type": "stream",
     "text": [
      "adding new data to endpoint\n",
      "data added\n"
     ]
    },
    {
     "name": "stderr",
     "output_type": "stream",
     "text": [
      "INFO:py4j.java_gateway:Received command  on object id \n",
      "INFO:py4j.java_gateway:Closing down callback connection\n",
      "INFO:py4j.java_gateway:Callback Connection ready to receive messages\n",
      "INFO:py4j.java_gateway:Received command c on object id p1\n",
      "INFO:py4j.java_gateway:Received command c on object id p1\n",
      "INFO:py4j.java_gateway:Received command c on object id p2\n"
     ]
    },
    {
     "name": "stdout",
     "output_type": "stream",
     "text": [
      "a new data has come\n",
      "converting to dataframe\n"
     ]
    },
    {
     "name": "stderr",
     "output_type": "stream",
     "text": [
      "INFO:py4j.java_gateway:Received command c on object id p2\n"
     ]
    },
    {
     "name": "stdout",
     "output_type": "stream",
     "text": [
      "adding new data to endpoint\n",
      "data added\n"
     ]
    },
    {
     "name": "stderr",
     "output_type": "stream",
     "text": [
      "INFO:py4j.java_gateway:Received command  on object id \n",
      "INFO:py4j.java_gateway:Closing down callback connection\n",
      "INFO:py4j.java_gateway:Callback Connection ready to receive messages\n",
      "INFO:py4j.java_gateway:Received command c on object id p1\n",
      "INFO:py4j.java_gateway:Received command c on object id p1\n",
      "INFO:py4j.java_gateway:Received command c on object id p2\n"
     ]
    },
    {
     "name": "stdout",
     "output_type": "stream",
     "text": [
      "a new data has come\n",
      "converting to dataframe\n"
     ]
    },
    {
     "name": "stderr",
     "output_type": "stream",
     "text": [
      "INFO:py4j.java_gateway:Received command c on object id p2\n"
     ]
    },
    {
     "name": "stdout",
     "output_type": "stream",
     "text": [
      "adding new data to endpoint\n",
      "data added\n"
     ]
    },
    {
     "name": "stderr",
     "output_type": "stream",
     "text": [
      "INFO:py4j.java_gateway:Received command  on object id \n",
      "INFO:py4j.java_gateway:Closing down callback connection\n",
      "INFO:py4j.java_gateway:Callback Connection ready to receive messages\n",
      "INFO:py4j.java_gateway:Received command c on object id p1\n",
      "INFO:py4j.java_gateway:Received command c on object id p1\n",
      "INFO:py4j.java_gateway:Received command c on object id p2\n"
     ]
    },
    {
     "name": "stdout",
     "output_type": "stream",
     "text": [
      "a new data has come\n",
      "converting to dataframe\n"
     ]
    },
    {
     "name": "stderr",
     "output_type": "stream",
     "text": [
      "INFO:py4j.java_gateway:Received command c on object id p2\n"
     ]
    },
    {
     "name": "stdout",
     "output_type": "stream",
     "text": [
      "adding new data to endpoint\n",
      "data added\n"
     ]
    },
    {
     "name": "stderr",
     "output_type": "stream",
     "text": [
      "INFO:py4j.java_gateway:Received command  on object id \n",
      "INFO:py4j.java_gateway:Closing down callback connection\n",
      "INFO:py4j.java_gateway:Callback Connection ready to receive messages\n",
      "INFO:py4j.java_gateway:Received command c on object id p1\n",
      "INFO:py4j.java_gateway:Received command c on object id p1\n",
      "INFO:py4j.java_gateway:Received command c on object id p2\n"
     ]
    },
    {
     "name": "stdout",
     "output_type": "stream",
     "text": [
      "a new data has come\n",
      "converting to dataframe\n"
     ]
    },
    {
     "name": "stderr",
     "output_type": "stream",
     "text": [
      "INFO:py4j.java_gateway:Received command c on object id p2\n"
     ]
    },
    {
     "name": "stdout",
     "output_type": "stream",
     "text": [
      "adding new data to endpoint\n",
      "data added\n"
     ]
    },
    {
     "name": "stderr",
     "output_type": "stream",
     "text": [
      "INFO:py4j.java_gateway:Received command  on object id \n",
      "INFO:py4j.java_gateway:Closing down callback connection\n",
      "INFO:py4j.java_gateway:Callback Connection ready to receive messages\n",
      "INFO:py4j.java_gateway:Received command c on object id p1\n",
      "INFO:py4j.java_gateway:Received command c on object id p1\n",
      "INFO:py4j.java_gateway:Received command c on object id p2\n"
     ]
    },
    {
     "name": "stdout",
     "output_type": "stream",
     "text": [
      "a new data has come\n",
      "converting to dataframe\n"
     ]
    },
    {
     "name": "stderr",
     "output_type": "stream",
     "text": [
      "INFO:py4j.java_gateway:Received command c on object id p2\n"
     ]
    },
    {
     "name": "stdout",
     "output_type": "stream",
     "text": [
      "adding new data to endpoint\n",
      "data added\n"
     ]
    },
    {
     "name": "stderr",
     "output_type": "stream",
     "text": [
      "INFO:py4j.java_gateway:Received command  on object id \n",
      "INFO:py4j.java_gateway:Closing down callback connection\n",
      "INFO:py4j.java_gateway:Callback Connection ready to receive messages\n",
      "INFO:py4j.java_gateway:Received command c on object id p1\n",
      "INFO:py4j.java_gateway:Received command c on object id p1\n",
      "INFO:py4j.java_gateway:Received command c on object id p2\n"
     ]
    },
    {
     "name": "stdout",
     "output_type": "stream",
     "text": [
      "a new data has come\n",
      "converting to dataframe\n"
     ]
    },
    {
     "name": "stderr",
     "output_type": "stream",
     "text": [
      "INFO:py4j.java_gateway:Received command c on object id p2\n"
     ]
    },
    {
     "name": "stdout",
     "output_type": "stream",
     "text": [
      "adding new data to endpoint\n",
      "data added\n"
     ]
    },
    {
     "name": "stderr",
     "output_type": "stream",
     "text": [
      "INFO:py4j.java_gateway:Received command  on object id \n",
      "INFO:py4j.java_gateway:Closing down callback connection\n",
      "INFO:py4j.java_gateway:Callback Connection ready to receive messages\n",
      "INFO:py4j.java_gateway:Received command c on object id p1\n",
      "INFO:py4j.java_gateway:Received command c on object id p1\n",
      "INFO:py4j.java_gateway:Received command c on object id p2\n"
     ]
    },
    {
     "name": "stdout",
     "output_type": "stream",
     "text": [
      "a new data has come\n",
      "converting to dataframe\n"
     ]
    },
    {
     "name": "stderr",
     "output_type": "stream",
     "text": [
      "INFO:py4j.java_gateway:Received command c on object id p2\n"
     ]
    },
    {
     "name": "stdout",
     "output_type": "stream",
     "text": [
      "adding new data to endpoint\n",
      "data added\n"
     ]
    },
    {
     "name": "stderr",
     "output_type": "stream",
     "text": [
      "INFO:py4j.java_gateway:Received command  on object id \n",
      "INFO:py4j.java_gateway:Closing down callback connection\n",
      "INFO:py4j.java_gateway:Callback Connection ready to receive messages\n",
      "INFO:py4j.java_gateway:Received command c on object id p1\n",
      "INFO:py4j.java_gateway:Received command c on object id p1\n",
      "INFO:py4j.java_gateway:Received command c on object id p2\n"
     ]
    },
    {
     "name": "stdout",
     "output_type": "stream",
     "text": [
      "a new data has come\n",
      "converting to dataframe\n"
     ]
    },
    {
     "name": "stderr",
     "output_type": "stream",
     "text": [
      "INFO:py4j.java_gateway:Received command c on object id p2\n"
     ]
    },
    {
     "name": "stdout",
     "output_type": "stream",
     "text": [
      "adding new data to endpoint\n",
      "data added\n"
     ]
    },
    {
     "name": "stderr",
     "output_type": "stream",
     "text": [
      "INFO:py4j.java_gateway:Received command  on object id \n",
      "INFO:py4j.java_gateway:Closing down callback connection\n",
      "INFO:py4j.java_gateway:Callback Connection ready to receive messages\n",
      "INFO:py4j.java_gateway:Received command c on object id p1\n",
      "INFO:py4j.java_gateway:Received command c on object id p1\n",
      "INFO:py4j.java_gateway:Received command c on object id p2\n"
     ]
    },
    {
     "name": "stdout",
     "output_type": "stream",
     "text": [
      "a new data has come\n",
      "converting to dataframe\n"
     ]
    },
    {
     "name": "stderr",
     "output_type": "stream",
     "text": [
      "INFO:py4j.java_gateway:Received command c on object id p2\n"
     ]
    },
    {
     "name": "stdout",
     "output_type": "stream",
     "text": [
      "adding new data to endpoint\n",
      "data added\n"
     ]
    },
    {
     "name": "stderr",
     "output_type": "stream",
     "text": [
      "INFO:py4j.java_gateway:Received command  on object id \n",
      "INFO:py4j.java_gateway:Closing down callback connection\n",
      "INFO:py4j.java_gateway:Callback Connection ready to receive messages\n",
      "INFO:py4j.java_gateway:Received command c on object id p1\n",
      "INFO:py4j.java_gateway:Received command c on object id p1\n",
      "INFO:py4j.java_gateway:Received command c on object id p2\n"
     ]
    },
    {
     "name": "stdout",
     "output_type": "stream",
     "text": [
      "a new data has come\n",
      "converting to dataframe\n"
     ]
    },
    {
     "name": "stderr",
     "output_type": "stream",
     "text": [
      "INFO:py4j.java_gateway:Received command c on object id p2\n"
     ]
    },
    {
     "name": "stdout",
     "output_type": "stream",
     "text": [
      "adding new data to endpoint\n",
      "data added\n"
     ]
    },
    {
     "name": "stderr",
     "output_type": "stream",
     "text": [
      "INFO:py4j.java_gateway:Received command  on object id \n",
      "INFO:py4j.java_gateway:Closing down callback connection\n",
      "INFO:py4j.java_gateway:Callback Connection ready to receive messages\n",
      "INFO:py4j.java_gateway:Received command c on object id p1\n",
      "INFO:py4j.java_gateway:Received command c on object id p1\n",
      "INFO:py4j.java_gateway:Received command c on object id p2\n"
     ]
    },
    {
     "name": "stdout",
     "output_type": "stream",
     "text": [
      "a new data has come\n",
      "converting to dataframe\n"
     ]
    },
    {
     "name": "stderr",
     "output_type": "stream",
     "text": [
      "INFO:py4j.java_gateway:Received command c on object id p2\n"
     ]
    },
    {
     "name": "stdout",
     "output_type": "stream",
     "text": [
      "adding new data to endpoint\n",
      "data added\n"
     ]
    },
    {
     "name": "stderr",
     "output_type": "stream",
     "text": [
      "INFO:py4j.java_gateway:Received command  on object id \n",
      "INFO:py4j.java_gateway:Closing down callback connection\n"
     ]
    }
   ],
   "source": [
    "ssc.start()\n",
    "\n",
    "ssc.awaitTermination()"
   ]
  }
 ],
 "metadata": {
  "kernelspec": {
   "display_name": "Python 3",
   "language": "python",
   "name": "python3"
  },
  "language_info": {
   "codemirror_mode": {
    "name": "ipython",
    "version": 3
   },
   "file_extension": ".py",
   "mimetype": "text/x-python",
   "name": "python",
   "nbconvert_exporter": "python",
   "pygments_lexer": "ipython3",
   "version": "3.7.2"
  }
 },
 "nbformat": 4,
 "nbformat_minor": 2
}
